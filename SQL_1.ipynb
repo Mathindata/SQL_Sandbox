{
  "nbformat": 4,
  "nbformat_minor": 0,
  "metadata": {
    "colab": {
      "name": "SQL_1.ipynb",
      "provenance": []
    },
    "kernelspec": {
      "name": "python3",
      "display_name": "Python 3"
    }
  },
  "cells": [
    {
      "cell_type": "markdown",
      "metadata": {
        "id": "FzrbKby-hgyU",
        "colab_type": "text"
      },
      "source": [
        "# Based on the materials in :\n",
        "\n",
        "[sqlite3 — DB-API 2.0 interface for SQLite databases](https://docs.python.org/3/library/sqlite3.html)\n",
        "\n",
        "[PythonStarter](https://github.com/Olamiotan/PythonStarter)\n",
        "\n",
        "[Sample Database](https://www.sqlitetutorial.net/sqlite-sample-database/)\n",
        "\n",
        "[Read from Database with SQLite](https://pythonprogramming.net/sqlite-part-3-reading-database-python/)"
      ]
    },
    {
      "cell_type": "markdown",
      "metadata": {
        "id": "qOe5jh0Uj0zo",
        "colab_type": "text"
      },
      "source": [
        "![chinook database tables and their relationships](https://cdn.sqlitetutorial.net/wp-content/uploads/2015/11/sqlite-sample-database-color.jpg)"
      ]
    },
    {
      "cell_type": "code",
      "metadata": {
        "id": "8zN_k8AJ2QfK",
        "colab_type": "code",
        "colab": {}
      },
      "source": [
        "import sqlite3\n",
        "conn = sqlite3.connect('/content/chinook.db') "
      ],
      "execution_count": 0,
      "outputs": []
    },
    {
      "cell_type": "code",
      "metadata": {
        "id": "hf_rNZEVGMmX",
        "colab_type": "code",
        "colab": {}
      },
      "source": [
        "import pandas as pd"
      ],
      "execution_count": 0,
      "outputs": []
    },
    {
      "cell_type": "code",
      "metadata": {
        "id": "I-9hiWfo2dMv",
        "colab_type": "code",
        "colab": {}
      },
      "source": [
        "cur = conn.cursor()\n",
        "cur.execute(\"\"\" \n",
        "            SELECT ar.Name AS ArtistName, COUNT(t.TrackId) AS TrackCount FROM tracks t\n",
        "            INNER JOIN albums al ON t.AlbumId = al.AlbumId\n",
        "            INNER JOIN artists ar ON al.ArtistId = ar.ArtistId\n",
        "            INNER JOIN genres g ON t.GenreId = g.GenreId\n",
        "            WHERE g.GenreId = 1 \n",
        "            GROUP BY al.ArtistId \n",
        "            ORDER BY TrackCount DESC LIMIT 10\n",
        "            \"\"\")\n",
        "TopTenBands = cur.fetchall()\n",
        "colnames = [desc[0] for desc in cur.description] \n",
        "conn.commit()\n",
        "\n",
        "\n",
        "#create the pandas dataframe\n",
        "TopTenBands = pd.DataFrame(TopTenBands)\n",
        "TopTenBands.columns = colnames\n",
        "\n",
        "#close the connection\n",
        "cur.close()"
      ],
      "execution_count": 0,
      "outputs": []
    },
    {
      "cell_type": "code",
      "metadata": {
        "id": "gxe-7G2XSPlf",
        "colab_type": "code",
        "colab": {
          "base_uri": "https://localhost:8080/",
          "height": 34
        },
        "outputId": "90c281a7-f7c0-465a-a02d-8a725cb345c3"
      },
      "source": [
        "import numpy as np\n",
        "np.shape(TopTenBands)"
      ],
      "execution_count": 57,
      "outputs": [
        {
          "output_type": "execute_result",
          "data": {
            "text/plain": [
              "(10, 2)"
            ]
          },
          "metadata": {
            "tags": []
          },
          "execution_count": 57
        }
      ]
    },
    {
      "cell_type": "code",
      "metadata": {
        "id": "ISKW9pUvo3lC",
        "colab_type": "code",
        "colab": {
          "base_uri": "https://localhost:8080/",
          "height": 343
        },
        "outputId": "b61aae57-a20e-43a1-9785-65708766a584"
      },
      "source": [
        "TopTenBands"
      ],
      "execution_count": 58,
      "outputs": [
        {
          "output_type": "execute_result",
          "data": {
            "text/html": [
              "<div>\n",
              "<style scoped>\n",
              "    .dataframe tbody tr th:only-of-type {\n",
              "        vertical-align: middle;\n",
              "    }\n",
              "\n",
              "    .dataframe tbody tr th {\n",
              "        vertical-align: top;\n",
              "    }\n",
              "\n",
              "    .dataframe thead th {\n",
              "        text-align: right;\n",
              "    }\n",
              "</style>\n",
              "<table border=\"1\" class=\"dataframe\">\n",
              "  <thead>\n",
              "    <tr style=\"text-align: right;\">\n",
              "      <th></th>\n",
              "      <th>ArtistName</th>\n",
              "      <th>TrackCount</th>\n",
              "    </tr>\n",
              "  </thead>\n",
              "  <tbody>\n",
              "    <tr>\n",
              "      <th>0</th>\n",
              "      <td>Led Zeppelin</td>\n",
              "      <td>114</td>\n",
              "    </tr>\n",
              "    <tr>\n",
              "      <th>1</th>\n",
              "      <td>U2</td>\n",
              "      <td>112</td>\n",
              "    </tr>\n",
              "    <tr>\n",
              "      <th>2</th>\n",
              "      <td>Deep Purple</td>\n",
              "      <td>92</td>\n",
              "    </tr>\n",
              "    <tr>\n",
              "      <th>3</th>\n",
              "      <td>Iron Maiden</td>\n",
              "      <td>81</td>\n",
              "    </tr>\n",
              "    <tr>\n",
              "      <th>4</th>\n",
              "      <td>Pearl Jam</td>\n",
              "      <td>54</td>\n",
              "    </tr>\n",
              "    <tr>\n",
              "      <th>5</th>\n",
              "      <td>Van Halen</td>\n",
              "      <td>52</td>\n",
              "    </tr>\n",
              "    <tr>\n",
              "      <th>6</th>\n",
              "      <td>Queen</td>\n",
              "      <td>45</td>\n",
              "    </tr>\n",
              "    <tr>\n",
              "      <th>7</th>\n",
              "      <td>The Rolling Stones</td>\n",
              "      <td>41</td>\n",
              "    </tr>\n",
              "    <tr>\n",
              "      <th>8</th>\n",
              "      <td>Creedence Clearwater Revival</td>\n",
              "      <td>40</td>\n",
              "    </tr>\n",
              "    <tr>\n",
              "      <th>9</th>\n",
              "      <td>Kiss</td>\n",
              "      <td>35</td>\n",
              "    </tr>\n",
              "  </tbody>\n",
              "</table>\n",
              "</div>"
            ],
            "text/plain": [
              "                     ArtistName  TrackCount\n",
              "0                  Led Zeppelin         114\n",
              "1                            U2         112\n",
              "2                   Deep Purple          92\n",
              "3                   Iron Maiden          81\n",
              "4                     Pearl Jam          54\n",
              "5                     Van Halen          52\n",
              "6                         Queen          45\n",
              "7            The Rolling Stones          41\n",
              "8  Creedence Clearwater Revival          40\n",
              "9                          Kiss          35"
            ]
          },
          "metadata": {
            "tags": []
          },
          "execution_count": 58
        }
      ]
    },
    {
      "cell_type": "code",
      "metadata": {
        "id": "tyLs5GfNoQ44",
        "colab_type": "code",
        "colab": {}
      },
      "source": [
        "A = TopTenBands.TrackCount\n",
        "np.shape(A)\n",
        "import matplotlib.pyplot as plt"
      ],
      "execution_count": 0,
      "outputs": []
    },
    {
      "cell_type": "markdown",
      "metadata": {
        "id": "KmpEGghzpikg",
        "colab_type": "text"
      },
      "source": [
        "# Visualizations"
      ]
    },
    {
      "cell_type": "code",
      "metadata": {
        "id": "5XVxV3vJSSc0",
        "colab_type": "code",
        "colab": {
          "base_uri": "https://localhost:8080/",
          "height": 422
        },
        "outputId": "01c3e6fd-5289-40d7-b1c8-a39ecd497ff9"
      },
      "source": [
        "#plt.plot(TopTenBands.TrackCount)\n",
        "fig, ax = plt.subplots()\n",
        "plt.bar(TopTenBands.ArtistName,TopTenBands.TrackCount)\n",
        "plt.xticks(rotation=90)\n",
        "plt.title('Top Ten Bands')\n",
        "plt.show()"
      ],
      "execution_count": 63,
      "outputs": [
        {
          "output_type": "display_data",
          "data": {
            "image/png": "[encoded data removed]",
            "text/plain": [
              "<Figure size 432x288 with 1 Axes>"
            ]
          },
          "metadata": {
            "tags": [],
            "needs_background": "light"
          }
        }
      ]
    },
    {
      "cell_type": "code",
      "metadata": {
        "id": "rtoHg43cD06f",
        "colab_type": "code",
        "colab": {}
      },
      "source": [
        "cur = conn.cursor()\n",
        "cur.execute(\"\"\" \n",
        "            SELECT BillingCountry, round(sum(Total),2) as Revenue\n",
        "            FROM invoices\n",
        "            group by BillingCountry\n",
        "            order by Revenue Desc;\n",
        "            \"\"\")\n",
        "TopRevenue = cur.fetchall()\n",
        "colnames = [desc[0] for desc in cur.description] \n",
        "conn.commit()\n",
        "\n",
        "\n",
        "#create the pandas dataframe\n",
        "TopRevenue = pd.DataFrame(TopRevenue)\n",
        "TopRevenue.columns = colnames\n",
        "\n",
        "#close the connection\n",
        "cur.close()"
      ],
      "execution_count": 0,
      "outputs": []
    },
    {
      "cell_type": "code",
      "metadata": {
        "id": "l4YoN2_EFG9X",
        "colab_type": "code",
        "colab": {
          "base_uri": "https://localhost:8080/",
          "height": 758
        },
        "outputId": "29065351-ec79-43f5-92cd-0f89fb9b96c4"
      },
      "source": [
        "TopRevenue"
      ],
      "execution_count": 67,
      "outputs": [
        {
          "output_type": "execute_result",
          "data": {
            "text/html": [
              "<div>\n",
              "<style scoped>\n",
              "    .dataframe tbody tr th:only-of-type {\n",
              "        vertical-align: middle;\n",
              "    }\n",
              "\n",
              "    .dataframe tbody tr th {\n",
              "        vertical-align: top;\n",
              "    }\n",
              "\n",
              "    .dataframe thead th {\n",
              "        text-align: right;\n",
              "    }\n",
              "</style>\n",
              "<table border=\"1\" class=\"dataframe\">\n",
              "  <thead>\n",
              "    <tr style=\"text-align: right;\">\n",
              "      <th></th>\n",
              "      <th>BillingCountry</th>\n",
              "      <th>Revenue</th>\n",
              "    </tr>\n",
              "  </thead>\n",
              "  <tbody>\n",
              "    <tr>\n",
              "      <th>0</th>\n",
              "      <td>USA</td>\n",
              "      <td>523.06</td>\n",
              "    </tr>\n",
              "    <tr>\n",
              "      <th>1</th>\n",
              "      <td>Canada</td>\n",
              "      <td>303.96</td>\n",
              "    </tr>\n",
              "    <tr>\n",
              "      <th>2</th>\n",
              "      <td>France</td>\n",
              "      <td>195.10</td>\n",
              "    </tr>\n",
              "    <tr>\n",
              "      <th>3</th>\n",
              "      <td>Brazil</td>\n",
              "      <td>190.10</td>\n",
              "    </tr>\n",
              "    <tr>\n",
              "      <th>4</th>\n",
              "      <td>Germany</td>\n",
              "      <td>156.48</td>\n",
              "    </tr>\n",
              "    <tr>\n",
              "      <th>5</th>\n",
              "      <td>United Kingdom</td>\n",
              "      <td>112.86</td>\n",
              "    </tr>\n",
              "    <tr>\n",
              "      <th>6</th>\n",
              "      <td>Czech Republic</td>\n",
              "      <td>90.24</td>\n",
              "    </tr>\n",
              "    <tr>\n",
              "      <th>7</th>\n",
              "      <td>Portugal</td>\n",
              "      <td>77.24</td>\n",
              "    </tr>\n",
              "    <tr>\n",
              "      <th>8</th>\n",
              "      <td>India</td>\n",
              "      <td>75.26</td>\n",
              "    </tr>\n",
              "    <tr>\n",
              "      <th>9</th>\n",
              "      <td>Chile</td>\n",
              "      <td>46.62</td>\n",
              "    </tr>\n",
              "    <tr>\n",
              "      <th>10</th>\n",
              "      <td>Hungary</td>\n",
              "      <td>45.62</td>\n",
              "    </tr>\n",
              "    <tr>\n",
              "      <th>11</th>\n",
              "      <td>Ireland</td>\n",
              "      <td>45.62</td>\n",
              "    </tr>\n",
              "    <tr>\n",
              "      <th>12</th>\n",
              "      <td>Austria</td>\n",
              "      <td>42.62</td>\n",
              "    </tr>\n",
              "    <tr>\n",
              "      <th>13</th>\n",
              "      <td>Finland</td>\n",
              "      <td>41.62</td>\n",
              "    </tr>\n",
              "    <tr>\n",
              "      <th>14</th>\n",
              "      <td>Netherlands</td>\n",
              "      <td>40.62</td>\n",
              "    </tr>\n",
              "    <tr>\n",
              "      <th>15</th>\n",
              "      <td>Norway</td>\n",
              "      <td>39.62</td>\n",
              "    </tr>\n",
              "    <tr>\n",
              "      <th>16</th>\n",
              "      <td>Sweden</td>\n",
              "      <td>38.62</td>\n",
              "    </tr>\n",
              "    <tr>\n",
              "      <th>17</th>\n",
              "      <td>Argentina</td>\n",
              "      <td>37.62</td>\n",
              "    </tr>\n",
              "    <tr>\n",
              "      <th>18</th>\n",
              "      <td>Australia</td>\n",
              "      <td>37.62</td>\n",
              "    </tr>\n",
              "    <tr>\n",
              "      <th>19</th>\n",
              "      <td>Belgium</td>\n",
              "      <td>37.62</td>\n",
              "    </tr>\n",
              "    <tr>\n",
              "      <th>20</th>\n",
              "      <td>Denmark</td>\n",
              "      <td>37.62</td>\n",
              "    </tr>\n",
              "    <tr>\n",
              "      <th>21</th>\n",
              "      <td>Italy</td>\n",
              "      <td>37.62</td>\n",
              "    </tr>\n",
              "    <tr>\n",
              "      <th>22</th>\n",
              "      <td>Poland</td>\n",
              "      <td>37.62</td>\n",
              "    </tr>\n",
              "    <tr>\n",
              "      <th>23</th>\n",
              "      <td>Spain</td>\n",
              "      <td>37.62</td>\n",
              "    </tr>\n",
              "  </tbody>\n",
              "</table>\n",
              "</div>"
            ],
            "text/plain": [
              "    BillingCountry  Revenue\n",
              "0              USA   523.06\n",
              "1           Canada   303.96\n",
              "2           France   195.10\n",
              "3           Brazil   190.10\n",
              "4          Germany   156.48\n",
              "5   United Kingdom   112.86\n",
              "6   Czech Republic    90.24\n",
              "7         Portugal    77.24\n",
              "8            India    75.26\n",
              "9            Chile    46.62\n",
              "10         Hungary    45.62\n",
              "11         Ireland    45.62\n",
              "12         Austria    42.62\n",
              "13         Finland    41.62\n",
              "14     Netherlands    40.62\n",
              "15          Norway    39.62\n",
              "16          Sweden    38.62\n",
              "17       Argentina    37.62\n",
              "18       Australia    37.62\n",
              "19         Belgium    37.62\n",
              "20         Denmark    37.62\n",
              "21           Italy    37.62\n",
              "22          Poland    37.62\n",
              "23           Spain    37.62"
            ]
          },
          "metadata": {
            "tags": []
          },
          "execution_count": 67
        }
      ]
    },
    {
      "cell_type": "code",
      "metadata": {
        "id": "sC5IsLZHFMOP",
        "colab_type": "code",
        "colab": {
          "base_uri": "https://localhost:8080/",
          "height": 352
        },
        "outputId": "76b91a4f-6025-4ead-f749-01e9b38cb5c0"
      },
      "source": [
        "#plt.plot(TopTenBands.TrackCount)\n",
        "fig, ax = plt.subplots()\n",
        "plt.bar(TopRevenue.BillingCountry,TopRevenue.Revenue)\n",
        "plt.xticks(rotation=90)\n",
        "plt.title('Revenue source')\n",
        "plt.show()"
      ],
      "execution_count": 68,
      "outputs": [
        {
          "output_type": "display_data",
          "data": {
            "image/png": "[encoded data removed]",
            "text/plain": [
              "<Figure size 432x288 with 1 Axes>"
            ]
          },
          "metadata": {
            "tags": [],
            "needs_background": "light"
          }
        }
      ]
    }
  ]
}